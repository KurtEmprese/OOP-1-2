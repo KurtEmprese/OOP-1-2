{
  "nbformat": 4,
  "nbformat_minor": 0,
  "metadata": {
    "colab": {
      "name": "OOP Concepts.ipynb",
      "provenance": [],
      "authorship_tag": "ABX9TyPKgDylpf5LW4PsXclzk+m3",
      "include_colab_link": true
    },
    "kernelspec": {
      "name": "python3",
      "display_name": "Python 3"
    },
    "language_info": {
      "name": "python"
    }
  },
  "cells": [
    {
      "cell_type": "markdown",
      "metadata": {
        "id": "view-in-github",
        "colab_type": "text"
      },
      "source": [
        "<a href=\"https://colab.research.google.com/github/KurtEmprese/OOP-1-2/blob/main/OOP_Concepts.ipynb\" target=\"_parent\"><img src=\"https://colab.research.google.com/assets/colab-badge.svg\" alt=\"Open In Colab\"/></a>"
      ]
    },
    {
      "cell_type": "markdown",
      "source": [
        "###Python Classes and Objects"
      ],
      "metadata": {
        "id": "auWuG7w2e6NX"
      }
    },
    {
      "cell_type": "code",
      "source": [
        "class MyClass:\n",
        "  pass"
      ],
      "metadata": {
        "id": "6bGc8g88e_V3"
      },
      "execution_count": 19,
      "outputs": []
    },
    {
      "cell_type": "code",
      "execution_count": 20,
      "metadata": {
        "colab": {
          "base_uri": "https://localhost:8080/"
        },
        "id": "hNNkZvAFY3t8",
        "outputId": "b4ddb53e-2181-4239-b516-7e29ee562f11"
      },
      "outputs": [
        {
          "output_type": "stream",
          "name": "stdout",
          "text": [
            "5\n"
          ]
        }
      ],
      "source": [
        "class OOP1_2:\n",
        "  X = 5\n",
        "  print(X)"
      ]
    },
    {
      "cell_type": "markdown",
      "source": [
        "Create Objects"
      ],
      "metadata": {
        "id": "4hdUIPAhieCt"
      }
    },
    {
      "cell_type": "code",
      "source": [
        "class OOP1_2:\n",
        "  def __init__(self, name, age):\n",
        "    self.name = name  # attributes\n",
        "    self.age = age\n",
        "\n",
        "  def identity(self):\n",
        "    print(self.name, self.age)\n",
        "\n",
        "\n",
        "person = OOP1_2(\"Kurt\", 18)  # create objects\n",
        "\n",
        "print(person.name)\n",
        "print(person.age)\n",
        "print(person.identity)"
      ],
      "metadata": {
        "colab": {
          "base_uri": "https://localhost:8080/"
        },
        "id": "VZJkgHf0iY6a",
        "outputId": "0e7352e8-3027-4c78-8459-874a4bb1cfda"
      },
      "execution_count": 21,
      "outputs": [
        {
          "output_type": "stream",
          "name": "stdout",
          "text": [
            "Kurt\n",
            "18\n",
            "<bound method OOP1_2.identity of <__main__.OOP1_2 object at 0x7f6bc3442090>>\n"
          ]
        }
      ]
    },
    {
      "cell_type": "code",
      "source": [
        "#Modify the Object Name\n",
        "\n",
        "person.name = \"Ashley\"\n",
        "print(person.name)\n",
        "print(person.age)"
      ],
      "metadata": {
        "colab": {
          "base_uri": "https://localhost:8080/"
        },
        "id": "zmblXNWgiruj",
        "outputId": "0205fc8a-61f4-42a7-f08c-bc0131a79ccb"
      },
      "execution_count": 22,
      "outputs": [
        {
          "output_type": "stream",
          "name": "stdout",
          "text": [
            "Ashley\n",
            "18\n"
          ]
        }
      ]
    },
    {
      "cell_type": "code",
      "source": [
        "person.age = 21\n",
        "\n",
        "print(person.name)\n",
        "print(person.age)"
      ],
      "metadata": {
        "colab": {
          "base_uri": "https://localhost:8080/"
        },
        "id": "8xBxEh-djYzM",
        "outputId": "8d67c401-adcd-4dfe-f28b-2d4175924d7e"
      },
      "execution_count": 23,
      "outputs": [
        {
          "output_type": "stream",
          "name": "stdout",
          "text": [
            "Ashley\n",
            "21\n"
          ]
        }
      ]
    },
    {
      "cell_type": "code",
      "source": [
        "#Delete the Object\n",
        "\n",
        "del person.name"
      ],
      "metadata": {
        "colab": {
          "base_uri": "https://localhost:8080/",
          "height": 200
        },
        "id": "wi_K9bYMjlMm",
        "outputId": "85714534-5a76-4057-a461-803156fe5309"
      },
      "execution_count": 26,
      "outputs": [
        {
          "output_type": "error",
          "ename": "AttributeError",
          "evalue": "ignored",
          "traceback": [
            "\u001b[0;31m---------------------------------------------------------------------------\u001b[0m",
            "\u001b[0;31mAttributeError\u001b[0m                            Traceback (most recent call last)",
            "\u001b[0;32m<ipython-input-26-12cff69a5312>\u001b[0m in \u001b[0;36m<module>\u001b[0;34m()\u001b[0m\n\u001b[1;32m      1\u001b[0m \u001b[0;31m#Delete the Object\u001b[0m\u001b[0;34m\u001b[0m\u001b[0;34m\u001b[0m\u001b[0;34m\u001b[0m\u001b[0m\n\u001b[1;32m      2\u001b[0m \u001b[0;34m\u001b[0m\u001b[0m\n\u001b[0;32m----> 3\u001b[0;31m \u001b[0;32mdel\u001b[0m \u001b[0mperson\u001b[0m\u001b[0;34m.\u001b[0m\u001b[0mname\u001b[0m\u001b[0;34m\u001b[0m\u001b[0;34m\u001b[0m\u001b[0m\n\u001b[0m",
            "\u001b[0;31mAttributeError\u001b[0m: name"
          ]
        }
      ]
    },
    {
      "cell_type": "code",
      "source": [
        "print(person.name)"
      ],
      "metadata": {
        "colab": {
          "base_uri": "https://localhost:8080/",
          "height": 165
        },
        "id": "H9QTAN88jsT9",
        "outputId": "cce0e436-4a82-4ce7-fc8e-23f09da782d0"
      },
      "execution_count": 25,
      "outputs": [
        {
          "output_type": "error",
          "ename": "AttributeError",
          "evalue": "ignored",
          "traceback": [
            "\u001b[0;31m---------------------------------------------------------------------------\u001b[0m",
            "\u001b[0;31mAttributeError\u001b[0m                            Traceback (most recent call last)",
            "\u001b[0;32m<ipython-input-25-8da234c70cac>\u001b[0m in \u001b[0;36m<module>\u001b[0;34m()\u001b[0m\n\u001b[0;32m----> 1\u001b[0;31m \u001b[0mprint\u001b[0m\u001b[0;34m(\u001b[0m\u001b[0mperson\u001b[0m\u001b[0;34m.\u001b[0m\u001b[0mname\u001b[0m\u001b[0;34m)\u001b[0m\u001b[0;34m\u001b[0m\u001b[0;34m\u001b[0m\u001b[0m\n\u001b[0m",
            "\u001b[0;31mAttributeError\u001b[0m: 'OOP1_2' object has no attribute 'name'"
          ]
        }
      ]
    },
    {
      "cell_type": "code",
      "source": [
        "print(person.age)"
      ],
      "metadata": {
        "colab": {
          "base_uri": "https://localhost:8080/"
        },
        "id": "KLI55TUOjzD2",
        "outputId": "1c770be0-3b81-44da-b0dc-09d62b7dd9df"
      },
      "execution_count": 27,
      "outputs": [
        {
          "output_type": "stream",
          "name": "stdout",
          "text": [
            "21\n"
          ]
        }
      ]
    },
    {
      "cell_type": "markdown",
      "source": [
        "Application 1 - Write a Python program that computes the area of a square, and name its class as Square, side as attribute"
      ],
      "metadata": {
        "id": "rxDGSFDIY9Xp"
      }
    },
    {
      "cell_type": "code",
      "source": [
        "class Square:\n",
        "  def __init__(self,sides):\n",
        "    self.sides = sides\n",
        "\n",
        "  def area(self):\n",
        "    return self.sides*self.sides #formula to compute the area of the square\n",
        "  \n",
        "  def display(self):\n",
        "    print(\"the area of the square is\", self.area())\n",
        "\n",
        "square = Square(4)\n",
        "\n",
        "print(square.sides)\n",
        "square.display()"
      ],
      "metadata": {
        "colab": {
          "base_uri": "https://localhost:8080/"
        },
        "id": "nc_-ZpXBZOs1",
        "outputId": "973122d2-08ba-4587-eb4e-ce1460530828"
      },
      "execution_count": 17,
      "outputs": [
        {
          "output_type": "stream",
          "name": "stdout",
          "text": [
            "4\n",
            "the area of the square is 16\n"
          ]
        }
      ]
    },
    {
      "cell_type": "markdown",
      "source": [
        "Application 2- Write a Pyhton program that displays your full name, age, course, school. Create a class named Myclass, and name, age, school as attributes"
      ],
      "metadata": {
        "id": "3NGIBmlbbY9O"
      }
    },
    {
      "cell_type": "code",
      "source": [
        "class MyClass:\n",
        "  def __init__(self, name, age, course, school):\n",
        "    self.name = name\n",
        "    self.age = age\n",
        "    self.course = course\n",
        "    self.school = school\n",
        "\n",
        "  def identity(self):\n",
        "    print(self.name, self.age, self.course, self.school)\n",
        "\n",
        "student = MyClass(\"Kurt Ashley S. Emprese\", 18, \"Computer Engineering\", \"Cavite State University\")\n",
        "\n",
        "print(\"Name =\", student.name, \"\\nAge =\", student.age, \"\\nCourse =\", student.course, \"\\nSchool =\", student.school)"
      ],
      "metadata": {
        "colab": {
          "base_uri": "https://localhost:8080/"
        },
        "id": "G2ozKiqVcMnW",
        "outputId": "df627e0e-a5db-4cf7-e029-8490f22ff472"
      },
      "execution_count": 52,
      "outputs": [
        {
          "output_type": "stream",
          "name": "stdout",
          "text": [
            "Name = Kurt Ashley S. Emprese \n",
            "Age = 18 \n",
            "Course = Computer Engineering \n",
            "School = Cavite State University\n"
          ]
        }
      ]
    }
  ]
}