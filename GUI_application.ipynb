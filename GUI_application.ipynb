{
  "nbformat": 4,
  "nbformat_minor": 0,
  "metadata": {
    "colab": {
      "name": "GUI  application.ipynb",
      "provenance": [],
      "authorship_tag": "ABX9TyNYn4g347Qxv8O5shhdKeBK",
      "include_colab_link": true
    },
    "kernelspec": {
      "name": "python3",
      "display_name": "Python 3"
    },
    "language_info": {
      "name": "python"
    }
  },
  "cells": [
    {
      "cell_type": "markdown",
      "metadata": {
        "id": "view-in-github",
        "colab_type": "text"
      },
      "source": [
        "<a href=\"https://colab.research.google.com/github/KurtEmprese/OOP-1-2/blob/main/GUI_application.ipynb\" target=\"_parent\"><img src=\"https://colab.research.google.com/assets/colab-badge.svg\" alt=\"Open In Colab\"/></a>"
      ]
    },
    {
      "cell_type": "code",
      "execution_count": 2,
      "metadata": {
        "colab": {
          "base_uri": "https://localhost:8080/"
        },
        "id": "29yTXBAEywle",
        "outputId": "4edfe7ae-775a-407f-bb5e-2d7af58f01c7"
      },
      "outputs": [
        {
          "output_type": "stream",
          "name": "stdout",
          "text": [
            "The prelim grade of student 1 is 100\n",
            "The midterm grade of student 1 is 100\n",
            "The final grade of student 1 is 100\n",
            "The semestral grade of student 1 is 100.0\n",
            "His gender is Male\n"
          ]
        }
      ],
      "source": [
        "#@title Students Grade in OOP\n",
        "\n",
        "Student_Name1 = \"Enter your student name\" #@param{type: \"string\"}\n",
        "prelim = 100 #@param {type:\"number\"}\n",
        "midterm = 100 #@param {type:\"number\"}\n",
        "finals = 100 #@param {type:\"number\"}\n",
        "semestral_grade = (prelim + midterm + finals)/3\n",
        "\n",
        "print(\"The prelim grade of student 1 is \" + str(prelim))\n",
        "print(\"The midterm grade of student 1 is \" + str(midterm))\n",
        "print(\"The final grade of student 1 is \" + str(finals))\n",
        "print(\"The semestral grade of student 1 is \" + str(semestral_grade))\n",
        "\n",
        "\n",
        "#@title Gender\n",
        "Gender = \"Male\"#@param [\"Male\", \"Female\"]\n",
        "print(\"His gender is \" + Gender)\n",
        "\n",
        "\n",
        "Birthdate = '2022-04-07'#@param {type: \"date\"}"
      ]
    }
  ]
}