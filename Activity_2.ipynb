{
  "nbformat": 4,
  "nbformat_minor": 0,
  "metadata": {
    "colab": {
      "name": "Activity 2.ipynb",
      "provenance": [],
      "authorship_tag": "ABX9TyPEhOreAbEqW/fbWi91YdlX",
      "include_colab_link": true
    },
    "kernelspec": {
      "name": "python3",
      "display_name": "Python 3"
    },
    "language_info": {
      "name": "python"
    }
  },
  "cells": [
    {
      "cell_type": "markdown",
      "metadata": {
        "id": "view-in-github",
        "colab_type": "text"
      },
      "source": [
        "<a href=\"https://colab.research.google.com/github/KurtEmprese/OOP-1-2/blob/main/Activity_2.ipynb\" target=\"_parent\"><img src=\"https://colab.research.google.com/assets/colab-badge.svg\" alt=\"Open In Colab\"/></a>"
      ]
    },
    {
      "cell_type": "code",
      "execution_count": null,
      "metadata": {
        "colab": {
          "base_uri": "https://localhost:8080/"
        },
        "id": "x7gIyv7lW2b3",
        "outputId": "8df02ce1-8121-458c-b674-9ecc50f5809b"
      },
      "outputs": [
        {
          "output_type": "stream",
          "name": "stdout",
          "text": [
            "86\n"
          ]
        }
      ],
      "source": [
        "#Write a python program that converts the tempearature Celsius to Fahrenheit. Create a class name Temperature\n",
        "#Create Celsius as attribute name, Temp() as method, and temp1 as object name\n",
        "\n",
        "class Temperature:\n",
        "  def __init__(self, Celsius):\n",
        "    self.Celsius = Celsius\n",
        "\n",
        "  def Temp(self):\n",
        "    return float(1.8*self.Celsius+32)\n",
        "    \n",
        "temp1 = Temperature(30)\n",
        "\n",
        "print(round(temp1.Temp()))"
      ]
    },
    {
      "cell_type": "markdown",
      "source": [
        "Area of Circle"
      ],
      "metadata": {
        "id": "YqUtNq0KiUF6"
      }
    },
    {
      "cell_type": "code",
      "source": [
        "pi = 3.141592654\n",
        "\n",
        "class Area:\n",
        "  def __init__(self, radius):\n",
        "    self.radius = radius\n",
        "\n",
        "  def area(self):\n",
        "    return pi * (self.radius**2)\n",
        "  \n",
        "area51 = Area(float(input(\"Please enter your radius: \")))\n",
        "\n",
        "print(area51.area())"
      ],
      "metadata": {
        "id": "X9rx9Kx5fmgV",
        "colab": {
          "base_uri": "https://localhost:8080/"
        },
        "outputId": "71d0411e-adcd-4ca9-fa2e-365174c7f02a"
      },
      "execution_count": 31,
      "outputs": [
        {
          "output_type": "stream",
          "name": "stdout",
          "text": [
            "Please enter your radius: 13\n",
            "530.929158526\n"
          ]
        }
      ]
    },
    {
      "cell_type": "markdown",
      "source": [
        "Perimeter of Circle"
      ],
      "metadata": {
        "id": "zGG5Kv2SiV8Y"
      }
    },
    {
      "cell_type": "code",
      "source": [
        "class Circle:\n",
        "  def __init__(self, radius):\n",
        "    self.radius = radius\n",
        "\n",
        "  def perimeter(self):\n",
        "    return 2 * pi * self.radius\n",
        "  \n",
        "Bilog = Circle(float(input(\"Please enter your radius: \")))\n",
        "\n",
        "print(Bilog.perimeter())"
      ],
      "metadata": {
        "colab": {
          "base_uri": "https://localhost:8080/"
        },
        "id": "eZAZjm3-iTpJ",
        "outputId": "4858019b-721a-41fa-bbd1-89cd520a1584"
      },
      "execution_count": 32,
      "outputs": [
        {
          "output_type": "stream",
          "name": "stdout",
          "text": [
            "Please enter your radius: 13\n",
            "81.681409004\n"
          ]
        }
      ]
    }
  ]
}